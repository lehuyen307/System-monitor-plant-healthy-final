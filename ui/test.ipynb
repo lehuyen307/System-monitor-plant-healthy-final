{
 "cells": [
  {
   "cell_type": "code",
   "execution_count": 1,
   "metadata": {},
   "outputs": [],
   "source": [
    "import tensorflow as tf\n",
    "from tensorflow.keras.preprocessing.image import ImageDataGenerator\n",
    "from tensorflow.keras.models import Sequential\n",
    "from tensorflow.keras.layers import Conv2D, MaxPooling2D, Flatten, Dense, Dropout, BatchNormalization\n",
    "from tensorflow.keras.optimizers import RMSprop\n",
    "from tensorflow.keras.callbacks import EarlyStopping"
   ]
  },
  {
   "cell_type": "code",
   "execution_count": 2,
   "metadata": {},
   "outputs": [],
   "source": [
    "train_datagen = ImageDataGenerator(rescale=1.0/255, \n",
    "                                   rotation_range=20,\n",
    "                                   width_shift_range=0.2,\n",
    "                                   height_shift_range=0.2,\n",
    "                                   shear_range=0.2,\n",
    "                                   zoom_range=0.2,\n",
    "                                   horizontal_flip=True,\n",
    "                                   fill_mode='nearest')"
   ]
  },
  {
   "cell_type": "code",
   "execution_count": 3,
   "metadata": {},
   "outputs": [
    {
     "name": "stdout",
     "output_type": "stream",
     "text": [
      "Found 707 images belonging to 3 classes.\n",
      "Found 0 images belonging to 0 classes.\n"
     ]
    }
   ],
   "source": [
    "# Áp dụng data augmentation cho tập huấn luyện\n",
    "train_generator = train_datagen.flow_from_directory(directory=\"D:\\data\\Ai trong kinh doannh\\Dự án AI\\Tomato_train\",\n",
    "                                                    target_size=(150, 150),\n",
    "                                                    batch_size=32,\n",
    "                                                    class_mode='categorical')\n",
    "\n",
    "# Tạo bộ tăng cường dữ liệu cho tập validation (không thay đổi dữ liệu)\n",
    "validation_datagen = ImageDataGenerator(rescale=1.0/255)\n",
    "\n",
    "# Áp dụng data augmentation cho tập validation\n",
    "validation_generator = validation_datagen.flow_from_directory(directory=\"D:\\data\\Ai trong kinh doannh\\Dự án AI\\Tomato_test\",\n",
    "                                                              target_size=(150, 150),\n",
    "                                                              batch_size=32,\n",
    "                                                              class_mode='categorical')"
   ]
  },
  {
   "cell_type": "code",
   "execution_count": 4,
   "metadata": {},
   "outputs": [],
   "source": [
    "# Khởi tạo mô hình CNN\n",
    "model = Sequential()\n",
    "\n",
    "# Các lớp Convolutional\n",
    "model.add(Conv2D(16, (3, 3), activation='relu', input_shape=(150, 150, 3)))\n",
    "model.add(MaxPooling2D(2, 2))\n",
    "\n",
    "model.add(Conv2D(32, (3, 3), activation='relu'))\n",
    "model.add(MaxPooling2D(2, 2))\n",
    "\n",
    "model.add(Conv2D(64, (3, 3), activation='relu'))\n",
    "model.add(MaxPooling2D(2, 2))\n",
    "\n",
    "model.add(Conv2D(128, (3, 3), activation='relu'))\n",
    "model.add(MaxPooling2D(2, 2))\n",
    "\n",
    "model.add(Conv2D(256, (3, 3), activation='relu'))\n",
    "model.add(MaxPooling2D(2, 2))\n",
    "\n",
    "# Flatten\n",
    "model.add(Flatten())\n",
    "\n",
    "# Fully-connected layers\n",
    "model.add(Dense(128, activation='relu'))\n",
    "model.add(Dropout(0.5))\n",
    "\n",
    "# Output layer\n",
    "model.add(Dense(3, activation='softmax'))"
   ]
  },
  {
   "cell_type": "code",
   "execution_count": 5,
   "metadata": {},
   "outputs": [
    {
     "name": "stdout",
     "output_type": "stream",
     "text": [
      "You must install pydot (`pip install pydot`) and install graphviz (see instructions at https://graphviz.gitlab.io/download/) for plot_model to work.\n"
     ]
    }
   ],
   "source": [
    "from tensorflow.keras.utils import plot_model\n",
    "plot_model(model, to_file='model_plot.png', show_shapes=True, show_layer_names=True)"
   ]
  },
  {
   "cell_type": "code",
   "execution_count": 6,
   "metadata": {},
   "outputs": [],
   "source": [
    "# Compile mô hình\n",
    "model.compile(optimizer=RMSprop(learning_rate=0.001),\n",
    "              loss='categorical_crossentropy',\n",
    "              metrics=['accuracy'])\n",
    "\n",
    "# Sử dụng EarlyStopping để dừng quá trình huấn luyện sớm nếu không có cải tiến đáng kể\n",
    "early_stopping = EarlyStopping(patience=3, monitor='val_loss', restore_best_weights=True)"
   ]
  },
  {
   "cell_type": "code",
   "execution_count": 7,
   "metadata": {},
   "outputs": [
    {
     "name": "stdout",
     "output_type": "stream",
     "text": [
      "Epoch 1/20\n",
      "22/22 [==============================] - 24s 990ms/step - loss: 0.9803 - accuracy: 0.5185\n",
      "Epoch 2/20\n",
      "22/22 [==============================] - 11s 503ms/step - loss: 0.7104 - accuracy: 0.6281\n",
      "Epoch 3/20\n",
      "22/22 [==============================] - 11s 497ms/step - loss: 0.6591 - accuracy: 0.6519\n",
      "Epoch 4/20\n",
      "22/22 [==============================] - 11s 483ms/step - loss: 0.5773 - accuracy: 0.6622\n",
      "Epoch 5/20\n",
      "22/22 [==============================] - 11s 493ms/step - loss: 0.5789 - accuracy: 0.6741\n",
      "Epoch 6/20\n",
      "22/22 [==============================] - 11s 492ms/step - loss: 0.5282 - accuracy: 0.6859\n",
      "Epoch 7/20\n",
      "22/22 [==============================] - 11s 484ms/step - loss: 0.5761 - accuracy: 0.6696\n",
      "Epoch 8/20\n",
      "22/22 [==============================] - 11s 479ms/step - loss: 0.5064 - accuracy: 0.7111\n",
      "Epoch 9/20\n",
      "22/22 [==============================] - 11s 497ms/step - loss: 0.5034 - accuracy: 0.7170\n",
      "Epoch 10/20\n",
      "22/22 [==============================] - 11s 515ms/step - loss: 0.5189 - accuracy: 0.7173\n",
      "Epoch 11/20\n",
      "22/22 [==============================] - 11s 494ms/step - loss: 0.4849 - accuracy: 0.7289\n",
      "Epoch 12/20\n",
      "22/22 [==============================] - 11s 489ms/step - loss: 0.4955 - accuracy: 0.7126\n",
      "Epoch 13/20\n",
      "22/22 [==============================] - 11s 502ms/step - loss: 0.5079 - accuracy: 0.7437\n",
      "Epoch 14/20\n",
      "22/22 [==============================] - 11s 490ms/step - loss: 0.5052 - accuracy: 0.7304\n",
      "Epoch 15/20\n",
      "22/22 [==============================] - 11s 500ms/step - loss: 0.4420 - accuracy: 0.7778\n",
      "Epoch 16/20\n",
      "22/22 [==============================] - 11s 499ms/step - loss: 0.4121 - accuracy: 0.8104\n",
      "Epoch 17/20\n",
      "22/22 [==============================] - 11s 496ms/step - loss: 0.4429 - accuracy: 0.7689\n",
      "Epoch 18/20\n",
      "22/22 [==============================] - 11s 502ms/step - loss: 0.4097 - accuracy: 0.8104\n",
      "Epoch 19/20\n",
      "22/22 [==============================] - 11s 489ms/step - loss: 0.4397 - accuracy: 0.8222\n",
      "Epoch 20/20\n",
      "22/22 [==============================] - 11s 516ms/step - loss: 0.4093 - accuracy: 0.7841\n"
     ]
    }
   ],
   "source": [
    "# Huấn luyện mô hình\n",
    "history = model.fit(train_generator,\n",
    "                    steps_per_epoch=train_generator.n // train_generator.batch_size,\n",
    "                    epochs=20,\n",
    "                    validation_data=validation_generator,\n",
    "                    validation_steps=validation_generator.n // validation_generator.batch_size)"
   ]
  },
  {
   "cell_type": "code",
   "execution_count": 8,
   "metadata": {},
   "outputs": [
    {
     "name": "stdout",
     "output_type": "stream",
     "text": [
      "Sai số kiểm tra là:  0.3457064926624298\n",
      "Độ chính xác kiểm tra là:  0.8472418785095215\n"
     ]
    }
   ],
   "source": [
    "# Đánh giá độ chính xác của mô hình\n",
    "score = model.evaluate(train_generator,verbose=0)\n",
    "print('Sai số kiểm tra là: ',score[0])\n",
    "print('Độ chính xác kiểm tra là: ',score[1])"
   ]
  },
  {
   "cell_type": "code",
   "execution_count": 13,
   "metadata": {},
   "outputs": [
    {
     "ename": "NameError",
     "evalue": "name 'load_model' is not defined",
     "output_type": "error",
     "traceback": [
      "\u001b[1;31m---------------------------------------------------------------------------\u001b[0m",
      "\u001b[1;31mNameError\u001b[0m                                 Traceback (most recent call last)",
      "\u001b[1;32md:\\System-monitor-plant-healthy\\test.ipynb Cell 9\u001b[0m line \u001b[0;36m1\n\u001b[1;32m----> <a href='vscode-notebook-cell:/d%3A/System-monitor-plant-healthy/test.ipynb#X13sZmlsZQ%3D%3D?line=0'>1</a>\u001b[0m model_CNN \u001b[39m=\u001b[39m load_model(\u001b[39m'\u001b[39m\u001b[39mTomato_ripeness01.h5\u001b[39m\u001b[39m'\u001b[39m)\n\u001b[0;32m      <a href='vscode-notebook-cell:/d%3A/System-monitor-plant-healthy/test.ipynb#X13sZmlsZQ%3D%3D?line=1'>2</a>\u001b[0m \u001b[39mfrom\u001b[39;00m \u001b[39mtensorflow\u001b[39;00m\u001b[39m.\u001b[39;00m\u001b[39mkeras\u001b[39;00m\u001b[39m.\u001b[39;00m\u001b[39mutils\u001b[39;00m \u001b[39mimport\u001b[39;00m load_img, img_to_array\n\u001b[0;32m      <a href='vscode-notebook-cell:/d%3A/System-monitor-plant-healthy/test.ipynb#X13sZmlsZQ%3D%3D?line=2'>3</a>\u001b[0m \u001b[39mimport\u001b[39;00m \u001b[39mmatplotlib\u001b[39;00m\u001b[39m.\u001b[39;00m\u001b[39mpyplot\u001b[39;00m \u001b[39mas\u001b[39;00m \u001b[39mplt\u001b[39;00m\n",
      "\u001b[1;31mNameError\u001b[0m: name 'load_model' is not defined"
     ]
    }
   ],
   "source": [
    "model_CNN = load_model('Tomato_ripeness01.h5')\n",
    "from tensorflow.keras.utils import load_img, img_to_array\n",
    "import matplotlib.pyplot as plt\n",
    "import numpy as np\n",
    "filename = \"/kaggle/input/tomato-test/Tomato_test/IMG_0993.jpg\"\n",
    "\n",
    "predict = ['Chua chin','Gan chin','Da chin']\n",
    "predict = np.array(predict)\n",
    "img = load_img(filename,target_size=(150,150))\n",
    "plt.imshow(img)\n",
    "\n",
    "img = img_to_array(img)\n",
    "img = img.reshape(1,150,150,3)\n",
    "img = img.astype('float32')\n",
    "img = img/255\n",
    "\n",
    "\n",
    "result = np.argmax(model_CNN.predict(img),axis=-1)\n",
    "predict[result]"
   ]
  },
  {
   "cell_type": "code",
   "execution_count": null,
   "metadata": {},
   "outputs": [],
   "source": []
  }
 ],
 "metadata": {
  "kernelspec": {
   "display_name": "LH",
   "language": "python",
   "name": "python3"
  },
  "language_info": {
   "codemirror_mode": {
    "name": "ipython",
    "version": 3
   },
   "file_extension": ".py",
   "mimetype": "text/x-python",
   "name": "python",
   "nbconvert_exporter": "python",
   "pygments_lexer": "ipython3",
   "version": "3.9.16"
  }
 },
 "nbformat": 4,
 "nbformat_minor": 2
}
